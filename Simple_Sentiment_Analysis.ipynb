{
  "nbformat": 4,
  "nbformat_minor": 0,
  "metadata": {
    "colab": {
      "name": "Simple-Sentiment-Analysis.ipynb",
      "provenance": [],
      "collapsed_sections": [],
      "authorship_tag": "ABX9TyOPwN+e4W5srNecYdsU0BnF",
      "include_colab_link": true
    },
    "kernelspec": {
      "name": "python3",
      "display_name": "Python 3"
    },
    "language_info": {
      "name": "python"
    }
  },
  "cells": [
    {
      "cell_type": "markdown",
      "metadata": {
        "id": "view-in-github",
        "colab_type": "text"
      },
      "source": [
        "<a href=\"https://colab.research.google.com/github/Charlie-OBrien/Simple-Sentiment-Analysis/blob/main/Simple_Sentiment_Analysis.ipynb\" target=\"_parent\"><img src=\"https://colab.research.google.com/assets/colab-badge.svg\" alt=\"Open In Colab\"/></a>"
      ]
    },
    {
      "cell_type": "code",
      "metadata": {
        "id": "QywMTwyxPrCq"
      },
      "source": [
        "# Sentiment of text analysis"
      ],
      "execution_count": null,
      "outputs": []
    },
    {
      "cell_type": "code",
      "metadata": {
        "id": "NDXVtpqNQGZQ"
      },
      "source": [
        "# Dependencies\n",
        "# newspaper3k\n",
        "\n",
        "# Libraries\n",
        "# textblob\n",
        "# nltk"
      ],
      "execution_count": null,
      "outputs": []
    },
    {
      "cell_type": "code",
      "metadata": {
        "id": "Fr-y3n7pQLFW"
      },
      "source": [
        "pip install newspaper3k"
      ],
      "execution_count": null,
      "outputs": []
    },
    {
      "cell_type": "code",
      "metadata": {
        "id": "WZ7AVAp-QtxS"
      },
      "source": [
        "from textblob import TextBlob\n",
        "import nltk\n",
        "from newspaper import Article"
      ],
      "execution_count": 8,
      "outputs": []
    },
    {
      "cell_type": "code",
      "metadata": {
        "id": "KKiZRhbOQyBX"
      },
      "source": [
        "# article url\n",
        "url = 'https://www.cbc.ca/news/canada/new-brunswick/covid-19-new-brunswick-rapid-test-isolation-1.6190655'\n",
        "article = Article(url)"
      ],
      "execution_count": 10,
      "outputs": []
    },
    {
      "cell_type": "code",
      "metadata": {
        "colab": {
          "base_uri": "https://localhost:8080/"
        },
        "id": "wtYj4NRnQ9nN",
        "outputId": "303e9796-2878-4f5b-c6b0-1325c2af0e8a"
      },
      "source": [
        "# NPL\n",
        "article.download()\n",
        "article.parse()\n",
        "nltk.download('punkt')\n",
        "article.nlp()"
      ],
      "execution_count": 11,
      "outputs": [
        {
          "output_type": "stream",
          "name": "stdout",
          "text": [
            "[nltk_data] Downloading package punkt to /root/nltk_data...\n",
            "[nltk_data]   Unzipping tokenizers/punkt.zip.\n"
          ]
        }
      ]
    },
    {
      "cell_type": "code",
      "metadata": {
        "colab": {
          "base_uri": "https://localhost:8080/"
        },
        "id": "Z7imVkiWdh9k",
        "outputId": "06e29ee7-085f-45fe-96db-d878404061a9"
      },
      "source": [
        "# print out summary of article\n",
        "text = article.summary\n",
        "print(text)"
      ],
      "execution_count": 23,
      "outputs": [
        {
          "output_type": "stream",
          "name": "stdout",
          "text": [
            "New Brunswick reported 86 new cases of COVID-19 Monday, the highest one-day total since the pandemic began.\n",
            "That includes finding ways to keep people at work, even if contact tracers determine they've been exposed to a positive case.\n",
            "- Blaine Higgs, premier\"But then even if you test positive, then you're fully vaccinated, you're not sick.\n",
            "In the Edmundston region, Zone 4, positive cases were confirmed at Polyvalente Thomas-Albert in Grand Falls.\n",
            "New positive cases were also confirmed at Valley View Kids Care in Grand Falls, which was previously impacted.\n"
          ]
        }
      ]
    },
    {
      "cell_type": "code",
      "metadata": {
        "colab": {
          "base_uri": "https://localhost:8080/"
        },
        "id": "pG3mVs8Eds8F",
        "outputId": "07dd60d1-417a-44fb-a7ea-99ffeedd3193"
      },
      "source": [
        "# sentiment between -1 & 1\n",
        "object = TextBlob(text)\n",
        "sentiment = object.sentiment.polarity\n",
        "#print ('Sentiment value: ' + str(sentiment)) #prints a float point value that represents sentiment\n",
        "\n",
        "if sentiment > 0:\n",
        "  print('The text is positive')\n",
        "  print ('Sentiment value: ' + str(sentiment))\n",
        "elif sentiment < 0:\n",
        "  print('Text is negative')\n",
        "  print ('Sentiment value: ' + str(sentiment))\n",
        "else:\n",
        "  print('Text is neutral')\n",
        "  print ('Sentiment value: ' + str(sentiment))\n",
        "\n",
        "\n"
      ],
      "execution_count": 32,
      "outputs": [
        {
          "output_type": "stream",
          "name": "stdout",
          "text": [
            "The text is positive\n",
            "Sentiment value: 0.23633271490414345\n"
          ]
        }
      ]
    },
    {
      "cell_type": "code",
      "metadata": {
        "id": "POuAT42UeU86"
      },
      "source": [
        ""
      ],
      "execution_count": null,
      "outputs": []
    }
  ]
}